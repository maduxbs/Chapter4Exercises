{
 "cells": [
  {
   "cell_type": "markdown",
   "id": "b6ebda43",
   "metadata": {},
   "source": [
    "## Chapter 4 Ex. \n",
    "\n",
    "Algorithm Workbench ( Any two questions)"
   ]
  },
  {
   "cell_type": "markdown",
   "id": "821c65a5",
   "metadata": {},
   "source": [
    "## 1 Ex."
   ]
  },
  {
   "cell_type": "code",
   "execution_count": 1,
   "id": "7978fea8",
   "metadata": {},
   "outputs": [
    {
     "name": "stdout",
     "output_type": "stream",
     "text": [
      "Enter a number: 100\n",
      "Result: 1000.0\n",
      "Result is now greater than or equal to 100. Exiting the loop.\n"
     ]
    }
   ],
   "source": [
    "result = 0  # Initialize the result variable\n",
    "\n",
    "while result < 100:\n",
    "    try:\n",
    "        user_input = float(input(\"Enter a number: \"))  # Get user input as a float\n",
    "        result = user_input * 10  # Multiply the user input by 10 and update the result\n",
    "        print(f\"Result: {result}\")\n",
    "    except ValueError:\n",
    "        print(\"Invalid input. Please enter a valid number.\")\n",
    "\n",
    "print(\"Result is now greater than or equal to 100. Exiting the loop.\")"
   ]
  },
  {
   "cell_type": "markdown",
   "id": "463a1992",
   "metadata": {},
   "source": [
    "## 7 Ex."
   ]
  },
  {
   "cell_type": "code",
   "execution_count": null,
   "id": "b6b56ffc",
   "metadata": {},
   "outputs": [],
   "source": [
    "for i in range(10):  # Outer loop for rows\n",
    "    for j in range(15):  # Inner loop for characters in each row\n",
    "        print(\"#\", end='')  # Print '#' without a newline\n",
    "    print()  # Move to the next line after each row"
   ]
  },
  {
   "cell_type": "markdown",
   "id": "0a20b5e7",
   "metadata": {},
   "source": [
    "The code uses a for loop to iterate over 10 rows and an inner for loop to print 15 '#' characters in each row. The 'end=\"' argument inthe 'print' function is used to prevent it from automatically adding a newline character after each '#' character, allowing all '#' characters to appear on the same line. After each row, the 'print()' statement is used to move to the next line."
   ]
  },
  {
   "cell_type": "markdown",
   "id": "9b0603a4",
   "metadata": {},
   "source": [
    "## Programming Exercise"
   ]
  },
  {
   "cell_type": "markdown",
   "id": "5dde4038",
   "metadata": {},
   "source": [
    "## 1 Ex."
   ]
  },
  {
   "cell_type": "code",
   "execution_count": null,
   "id": "764cfcc9",
   "metadata": {},
   "outputs": [],
   "source": [
    "total_bugs = 0  # Initialize the total number of bugs to zero\n",
    "\n",
    "for day in range(1, 6):  # Loop for five days\n",
    "    bugs_collected = int(input(f\"Enter the number of bugs collected on day {day}: \"))\n",
    "    total_bugs += bugs_collected  # Add the bugs collected on the current day to the total\n",
    "\n",
    "print(f\"Total bugs collected over five days: {total_bugs}\")"
   ]
  },
  {
   "cell_type": "markdown",
   "id": "42e91b11",
   "metadata": {},
   "source": [
    "1. We start with 'total_bugs' initialized to 0 to keep track of the total number of bugs collected.\n",
    "2. We use a 'for' loop to iterate over five days, using the 'range(1, 6)' to generate numbers from 1 to 5. \n",
    "3. Inside the loop, we ask the user to input the number of bugs collected for each day, convert it to an integer, and store it in the 'bugs_collected' variable.\n",
    "4. We then add the 'bugs_collected' to the 'total_bugs' using the '+=' operator to update the total. \n",
    "5. After the loop finish running, we display the total number of bugs collected."
   ]
  },
  {
   "cell_type": "markdown",
   "id": "6e66ea6f",
   "metadata": {},
   "source": [
    "## 4 Ex."
   ]
  },
  {
   "cell_type": "code",
   "execution_count": null,
   "id": "4a6eb868",
   "metadata": {},
   "outputs": [],
   "source": [
    "# Get user input for speed (in miles per hour) and time (in hours)\n",
    "speed = float(input(\"Enter the speed of the vehicle (in miles per hour): \"))\n",
    "time = int(input(\"Enter the number of hours the vehicle has traveled: \"))\n",
    "\n",
    "# Display the table header\n",
    "print(\"\\nHour\\tDistance Traveled\")\n",
    "print(\"------------------------\")\n",
    "\n",
    "# Use a loop to calculate and display the distance for each hour\n",
    "for hour in range(1, time + 1):\n",
    "    distance = speed * hour\n",
    "    print(f\"{hour}\\t{distance} miles\")"
   ]
  },
  {
   "cell_type": "markdown",
   "id": "04ea2501",
   "metadata": {},
   "source": [
    "## 11 Ex. "
   ]
  },
  {
   "cell_type": "code",
   "execution_count": null,
   "id": "f5c0c6c2",
   "metadata": {},
   "outputs": [],
   "source": [
    "# Get user input for starting weight (in pounds)\n",
    "starting_weight = float(input(\"Enter your starting weight (in pounds): \"))\n",
    "\n",
    "# Define constants\n",
    "calories_per_pound = 3500  # Number of calories per pound of weight loss\n",
    "calorie_deficit_per_day = 500  # Daily calorie deficit for weight loss\n",
    "months = 6  # Number of months\n",
    "\n",
    "# Display table header\n",
    "print(\"\\nMonth\\tExpected Weight (lbs)\")\n",
    "print(\"-----------------------------\")\n",
    "\n",
    "# Initialize weight\n",
    "current_weight = starting_weight\n",
    "\n",
    "# Calculate and display expected weight for each month\n",
    "for month in range(1, months + 1):\n",
    "    # Calculate weight loss for the month\n",
    "    weight_loss = calorie_deficit_per_day * 30 / calories_per_pound\n",
    "\n",
    "    # Update current weight\n",
    "    current_weight -= weight_loss\n",
    "\n",
    "    # Display the result\n",
    "    print(f\"{month}\\t{current_weight:.2f} lbs\")\n",
    "\n",
    "print(\"End of 6 months\")"
   ]
  },
  {
   "cell_type": "markdown",
   "id": "c2e7aaf7",
   "metadata": {},
   "source": [
    "## 16 Ex."
   ]
  },
  {
   "cell_type": "code",
   "execution_count": null,
   "id": "5a9d0ed4",
   "metadata": {},
   "outputs": [],
   "source": [
    "import turtle\n",
    "\n",
    "# Create a turtle screen\n",
    "screen = turtle.Screen()\n",
    "\n",
    "# Create a turtle object\n",
    "t = turtle.Turtle()\n",
    "\n",
    "# Set initial position for the first square\n",
    "x, y = -100, 100\n",
    "\n",
    "# Loop to draw 100 squares\n",
    "for _ in range(100):\n",
    "    # Draw a square\n",
    "    for _ in range(4):\n",
    "        t.forward(50)\n",
    "        t.left(90)\n",
    "\n",
    "    # Move to the next position for the next square\n",
    "    x += 10  # You can adjust the spacing between squares as needed\n",
    "    y -= 10  # You can adjust the spacing between squares as needed\n",
    "    t.penup()\n",
    "    t.goto(x, y)\n",
    "    t.pendown()\n",
    "\n",
    "# Close the turtle graphics window when done\n",
    "screen.exitonclick()"
   ]
  },
  {
   "cell_type": "code",
   "execution_count": null,
   "id": "f8e2d709",
   "metadata": {},
   "outputs": [],
   "source": []
  }
 ],
 "metadata": {
  "kernelspec": {
   "display_name": "Python 3 (ipykernel)",
   "language": "python",
   "name": "python3"
  },
  "language_info": {
   "codemirror_mode": {
    "name": "ipython",
    "version": 3
   },
   "file_extension": ".py",
   "mimetype": "text/x-python",
   "name": "python",
   "nbconvert_exporter": "python",
   "pygments_lexer": "ipython3",
   "version": "3.11.4"
  }
 },
 "nbformat": 4,
 "nbformat_minor": 5
}
